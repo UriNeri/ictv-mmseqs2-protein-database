{
 "cells": [
  {
   "cell_type": "markdown",
   "metadata": {},
   "source": [
    "# ictv-mmseqs2-protein-database\n",
    "\n",
    "This repository contains instructions to generate a MMSeqs2 protein database with ICTV taxonomy. This database was not benchmarked. For taxonomic assignment of viral genomes you can try [geNomad](https://github.com/apcamargo/genomad).\n",
    "\n",
    "## Dependencies:\n",
    "\n",
    "- [`aria2`](https://github.com/aria2/aria2)\n",
    "- [`ripgrep`](https://github.com/BurntSushi/ripgrep)\n",
    "- [`csvtk`](https://github.com/shenwei356/csvtk)\n",
    "- [`seqkit`](https://github.com/shenwei356/seqkit)\n",
    "- [`taxonkit` (version 0.11.1)](https://github.com/shenwei356/taxonkit/releases/tag/v0.11.1)\n",
    "- [`taxopy`](https://github.com/apcamargo/taxopy)\n",
    "- [`mmseqs2`](https://github.com/soedinglab/MMseqs2)\n"
   ]
  },
  {
   "cell_type": "markdown",
   "metadata": {},
   "source": [
    "\n",
    "## Instructions\n",
    "First we actually install the dependencies....\n"
   ]
  },
  {
   "cell_type": "code",
   "execution_count": 2,
   "metadata": {},
   "outputs": [],
   "source": [
    "import os\n",
    "os.makedirs(f\"{os.environ['HOME']}/silly_buisness\",exist_ok=True)\n",
    "os.chdir(f\"{os.environ['HOME']}/silly_buisness\")"
   ]
  },
  {
   "cell_type": "code",
   "execution_count": null,
   "metadata": {},
   "outputs": [],
   "source": [
    "%%bash\n",
    "# Create and activate a new conda environment\n",
    "# conda create -n ictv_mmseqs2 python=3.9 -y\n",
    "conda activate ictv_mmseqs2\n",
    "\n",
    "# Install conda packages\n",
    "mamba install -c bioconda -c conda-forge \\\n",
    "    aria2 \\\n",
    "    ripgrep \\\n",
    "    csvtk \\\n",
    "    seqkit \\\n",
    "    taxonkit=0.11.0 \\\n",
    "    mmseqs2 \\\n",
    "    -y\n",
    "### taxonkit has to be 0.11.0 !!\n",
    "# Install taxopy using pip\n",
    "pip install taxopy ipython ipython-kernel\n",
    "# NOte- now change your i/pythonkernel to the one you just created"
   ]
  },
  {
   "cell_type": "code",
   "execution_count": 31,
   "metadata": {},
   "outputs": [
    {
     "name": "stdout",
     "output_type": "stream",
     "text": [
      "/home/neri/silly_buisness\n"
     ]
    }
   ],
   "source": [
    "%%bash\n",
    "echo $PWD"
   ]
  },
  {
   "cell_type": "markdown",
   "metadata": {},
   "source": [
    "### Verify installations\n"
   ]
  },
  {
   "cell_type": "code",
   "execution_count": 2,
   "metadata": {},
   "outputs": [
    {
     "name": "stdout",
     "output_type": "stream",
     "text": [
      "Checking installed tools:\n",
      "aria2 version 1.37.0\n",
      "ripgrep 14.1.0 (rev 9477456963)\n",
      "csvtk v0.30.0\n",
      "seqkit v2.8.2\n",
      "taxonkit v0.10.0\n"
     ]
    },
    {
     "name": "stdout",
     "output_type": "stream",
     "text": [
      "taxopy 0.13.0\n",
      "15.6f452\n",
      "\n",
      "Setup complete. You can now run the rest of the thing.\n"
     ]
    }
   ],
   "source": [
    "%%bash\n",
    "echo \"Checking installed tools:\"\n",
    "aria2c --version | head -n 1\n",
    "rg --version | head -n 1\n",
    "csvtk version | head -n 1\n",
    "seqkit version | head -n 1\n",
    "taxonkit version | head -n 1\n",
    "python -c \"import taxopy; print(f'taxopy {taxopy.__version__}')\"\n",
    "mmseqs version | head -n 1\n",
    "\n",
    "echo -e \"\\nSetup complete. You can now run the rest of the thing.\""
   ]
  },
  {
   "cell_type": "markdown",
   "metadata": {},
   "source": [
    "Now, download the latest VMR release from ICTV and convert it to a tabular file:"
   ]
  },
  {
   "cell_type": "code",
   "execution_count": 14,
   "metadata": {},
   "outputs": [
    {
     "name": "stderr",
     "output_type": "stream",
     "text": [
      "mkdir: cannot create directory ‘/home/neri/silly_buisness’: File exists\n"
     ]
    }
   ],
   "source": [
    "%%bash\n",
    "mkdir ~/silly_buisness\n",
    "cd ~/silly_buisness\n",
    "aria2c -x 4 -o ictv.xlsx \"https://ictv.global/vmr/current?fid=15873\" --check-certificate=false\n",
    "# wget https://ictv.global/vmr/current -O ictv.xlsx --no-check-certificate -o /dev/null\n",
    "\n",
    "# convert xlsx to tsv\n",
    "csvtk xlsx2csv ictv.xlsx \\\n",
    "    | csvtk csv2tab \\\n",
    "    | sed 's/\\xc2\\xa0/ /g' \\\n",
    "    | csvtk replace -t -F -f \"*\" -p \"^\\s+|\\s+$\" \\\n",
    "    > ictv.tsv\n",
    "\n",
    "# choose columns, and remove duplicates\n",
    "csvtk cut -t -f \"Realm,Subrealm,Kingdom,Subkingdom,Phylum,Subphylum,Class,Subclass,Order,Suborder,Family,Subfamily,Genus,Subgenus,Species\" ictv.tsv \\\n",
    "    | csvtk uniq -t -f \"Realm,Subrealm,Kingdom,Subkingdom,Phylum,Subphylum,Class,Subclass,Order,Suborder,Family,Subfamily,Genus,Subgenus,Species\" \\\n",
    "    | csvtk del-header -t \\\n",
    "    > ictv.taxonomy.tsv"
   ]
  },
  {
   "cell_type": "markdown",
   "metadata": {},
   "source": [
    "Create a file that will store all the ICTV taxa names:"
   ]
  },
  {
   "cell_type": "code",
   "execution_count": 17,
   "metadata": {},
   "outputs": [],
   "source": [
    "%%bash\n",
    "\n",
    "csvtk cut -t -H -f 1,3,5,7,9,11,13,15 ictv.taxonomy.tsv \\\n",
    "    | sed 's/\\t/\\n/g' \\\n",
    "    | awk '!/^[[:blank:]]*$/' \\\n",
    "    | sort -u \\\n",
    "    > ictv.names.txt"
   ]
  },
  {
   "cell_type": "markdown",
   "metadata": {},
   "source": [
    "Now let's get NCBI taxdump though I don't really think we need all cause we can try to get refseq entries of only examplers (and even they error)"
   ]
  },
  {
   "cell_type": "code",
   "execution_count": 23,
   "metadata": {},
   "outputs": [],
   "source": [
    "%%bash\n",
    "cd ~/silly_buisness\n",
    "aria2c  -x 4 -o taxdump.tar.gz  ftp://ftp.ncbi.nih.gov/pub/taxonomy/taxdump.tar.gz\n",
    "tar -xzf taxdump.tar.gz\n"
   ]
  },
  {
   "cell_type": "markdown",
   "metadata": {},
   "source": [
    "Use `taxonkit create-taxdump` to create a custom taxdump for ICTV. Next, execute the `fix_taxdump.py` script, which will make the taxids sequential to make them compatible with MMSeqs2:"
   ]
  },
  {
   "cell_type": "code",
   "execution_count": 40,
   "metadata": {},
   "outputs": [
    {
     "name": "stderr",
     "output_type": "stream",
     "text": [
      "14:16:09.365 [INFO]\u001b[0m 18665 records saved to ictv-taxdump/nodes.dmp\n",
      "14:16:09.379 [INFO]\u001b[0m 18665 records saved to ictv-taxdump/names.dmp\n",
      "14:16:09.379 [INFO]\u001b[0m 0 records saved to ictv-taxdump/merged.dmp\n",
      "14:16:09.379 [INFO]\u001b[0m 0 records saved to ictv-taxdump/delnodes.dmp\n"
     ]
    }
   ],
   "source": [
    "%%bash\n",
    "# mkdir ~/.taxonkit/\n",
    "# mv ./*dmp ~/.taxonkit/\n",
    "# mv gc.prt ~/.taxonkit/\n",
    "# mv readme* ~/.taxonkit/\n",
    "taxonkit create-taxdump -K 1 -P 3 -C 5 -O 7 -F 9 -G 11 -S 13 -T 15 \\\n",
    "    --rank-names \"realm\",\"kingdom\",\"phylum\",\"class\",\"order\",\"family\",\"genus\",\"species\" \\\n",
    "    ictv.taxonomy.tsv --out-dir ictv-taxdump --force\n"
   ]
  },
  {
   "cell_type": "markdown",
   "metadata": {},
   "source": [
    "This next block used to be called \"fix_taxdump.py\""
   ]
  },
  {
   "cell_type": "code",
   "execution_count": 41,
   "metadata": {},
   "outputs": [
    {
     "data": {
      "text/plain": [
       "PosixPath('ictv-taxdump/names.dmp')"
      ]
     },
     "execution_count": 41,
     "metadata": {},
     "output_type": "execute_result"
    }
   ],
   "source": [
    "from pathlib import Path\n",
    "\n",
    "taxid_mapping_dict = {}\n",
    "count = 1\n",
    "with open(Path(\"ictv-taxdump\").joinpath(\"names.dmp\")) as fin:\n",
    "    for line in fin:\n",
    "        taxid = line.split(\"\\t\")[0]\n",
    "        taxid_mapping_dict[taxid] = str(count)\n",
    "        count += 1\n",
    "\n",
    "with open(Path(\"ictv-taxdump\").joinpath(\"names.dmp\")) as fin, open(\n",
    "    Path(\"ictv-taxdump\").joinpath(\"names.dmp.new\"), \"w\"\n",
    ") as fout:\n",
    "    for line in fin:\n",
    "        line = line.strip().split(\"\\t\")\n",
    "        line[0] = taxid_mapping_dict[line[0]]\n",
    "        line = \"\\t\".join(line)\n",
    "        fout.write(f\"{line}\\n\")\n",
    "\n",
    "with open(Path(\"ictv-taxdump\").joinpath(\"nodes.dmp\")) as fin, open(\n",
    "    Path(\"ictv-taxdump\").joinpath(\"nodes.dmp.new\"), \"w\"\n",
    ") as fout:\n",
    "    for line in fin:\n",
    "        line = line.strip().split(\"\\t\")\n",
    "        line[0] = taxid_mapping_dict[line[0]]\n",
    "        line[2] = taxid_mapping_dict[line[2]]\n",
    "        line = \"\\t\".join(line)\n",
    "        fout.write(f\"{line}\\n\")\n",
    "\n",
    "Path(\"ictv-taxdump\").joinpath(\"names.dmp\").unlink()\n",
    "Path(\"ictv-taxdump\").joinpath(\"nodes.dmp\").unlink()\n",
    "Path(\"ictv-taxdump\").joinpath(\"nodes.dmp.new\").rename(\"ictv-taxdump/nodes.dmp\")\n",
    "Path(\"ictv-taxdump\").joinpath(\"names.dmp.new\").rename(\"ictv-taxdump/names.dmp\")"
   ]
  },
  {
   "cell_type": "markdown",
   "metadata": {},
   "source": [
    "Download the NCBI taxdump and the `prot.accession2taxid` file. Then, filter `prot.accession2taxid` to keep only viral proteins:"
   ]
  },
  {
   "cell_type": "code",
   "execution_count": 45,
   "metadata": {},
   "outputs": [
    {
     "name": "stderr",
     "output_type": "stream",
     "text": [
      "mkdir: cannot create directory ‘ncbi-taxdump’: File exists\n",
      "tar (child): taxdump.tar.gz: Cannot open: No such file or directory\n",
      "tar (child): Error is not recoverable: exiting now\n",
      "tar: Child returned status 2\n",
      "tar: Error is not recoverable: exiting now\n",
      "rm: cannot remove 'taxdump.tar.gz': No such file or directory\n",
      "gzip: prot.accession2taxid.FULL already exists;\tnot overwritten\n"
     ]
    }
   ],
   "source": [
    "%%bash\n",
    "# Download the NCBI taxdump\n",
    "# aria2c -x 4 \"ftp://ftp.ncbi.nih.gov/pub/taxonomy/taxdump.tar.gz\" --check-certificate=false\n",
    "mkdir ncbi-taxdump\n",
    "tar zxfv taxdump.tar.gz -C ncbi-taxdump\n",
    "rm taxdump.tar.gz\n",
    "\n",
    "# Download the protein → taxid association and filter for viruses\n",
    "# aria2c -x 4 \"https://ftp.ncbi.nlm.nih.gov/pub/taxonomy/accession2taxid/prot.accession2taxid.FULL.gz\" --check-certificate=false\n",
    "\n",
    "gunzip prot.accession2taxid.FULL.gz\n",
    "\n",
    "awk '{print $2}' prot.accession2taxid.FULL \\\n",
    "    | sort -u \\\n",
    "    | taxonkit --data-dir ncbi-taxdump lineage \\\n",
    "    | rg \"\\tViruses;\" \\\n",
    "    | awk '{print $1}' \\\n",
    "    > virus_taxid.list\n",
    "\n",
    "csvtk grep -t -f 2 -P virus_taxid.list prot.accession2taxid.FULL > virus.accession2taxid\n",
    "\n",
    "# rm prot.accession2taxid.FULL # why antonio why I thought it crashed and then it deleted it now I need to redownload this wasteful legacy filE??"
   ]
  },
  {
   "cell_type": "markdown",
   "metadata": {},
   "source": [
    "#### Find the ICTV-compliant proteins and write a new table with the ICTV taxids\n",
    "Execute the `get_ictv_taxids.py` (moved into code block) script to create a `accession2taxid` file with ICTV taxids."
   ]
  },
  {
   "cell_type": "code",
   "execution_count": 3,
   "metadata": {},
   "outputs": [
    {
     "name": "stderr",
     "output_type": "stream",
     "text": [
      "/home/neri/micromamba/envs/ictv_mmseqs2/lib/python3.9/site-packages/taxopy/utilities.py:151: Warning: The input name was not found in the taxonomy database.\n",
      "  warnings.warn(\n"
     ]
    },
    {
     "ename": "IndexError",
     "evalue": "list index out of range",
     "output_type": "error",
     "traceback": [
      "\u001b[0;31m---------------------------------------------------------------------------\u001b[0m",
      "\u001b[0;31mIndexError\u001b[0m                                Traceback (most recent call last)",
      "Cell \u001b[0;32mIn[3], line 31\u001b[0m\n\u001b[1;32m     29\u001b[0m \u001b[38;5;28;01mif\u001b[39;00m j \u001b[38;5;129;01min\u001b[39;00m ictv_name_set:\n\u001b[1;32m     30\u001b[0m     ictv_taxid \u001b[38;5;241m=\u001b[39m taxopy\u001b[38;5;241m.\u001b[39mtaxid_from_name(j, ictv_taxdb)\n\u001b[0;32m---> 31\u001b[0m     ictv_taxon \u001b[38;5;241m=\u001b[39m taxopy\u001b[38;5;241m.\u001b[39mTaxon(\u001b[43mictv_taxid\u001b[49m\u001b[43m[\u001b[49m\u001b[38;5;241;43m0\u001b[39;49m\u001b[43m]\u001b[49m, ictv_taxdb)\n\u001b[1;32m     32\u001b[0m     fout\u001b[38;5;241m.\u001b[39mwrite(\u001b[38;5;124mf\u001b[39m\u001b[38;5;124m\"\u001b[39m\u001b[38;5;132;01m{\u001b[39;00macc\u001b[38;5;132;01m}\u001b[39;00m\u001b[38;5;130;01m\\t\u001b[39;00m\u001b[38;5;132;01m{\u001b[39;00mictv_taxon\u001b[38;5;241m.\u001b[39mtaxid\u001b[38;5;132;01m}\u001b[39;00m\u001b[38;5;130;01m\\n\u001b[39;00m\u001b[38;5;124m\"\u001b[39m)\n\u001b[1;32m     33\u001b[0m     \u001b[38;5;28;01mbreak\u001b[39;00m\n",
      "\u001b[0;31mIndexError\u001b[0m: list index out of range"
     ]
    }
   ],
   "source": [
    "import taxopy\n",
    "\n",
    "# Read the official ICTV names\n",
    "with open(\"ictv.names.txt\") as fin:\n",
    "    ictv_name_set = {i.strip() for i in fin.readlines()}\n",
    "\n",
    "# Create the Taxopy NCBI and ICTV databases\n",
    "ncbi_taxdb = taxopy.TaxDb(\n",
    "    nodes_dmp=\"ncbi-taxdump/nodes.dmp\",\n",
    "    names_dmp=\"ncbi-taxdump/names.dmp\",\n",
    "    merged_dmp=\"ncbi-taxdump/merged.dmp\",\n",
    "    keep_files=True,\n",
    ")\n",
    "ictv_taxdb = taxopy.TaxDb(\n",
    "    nodes_dmp=\"ictv-taxdump/nodes.dmp\",\n",
    "    names_dmp=\"ictv-taxdump/names.dmp\",\n",
    "    keep_files=True,\n",
    ")\n",
    "\n",
    "# Replace non-ICTV taxids\n",
    "with open(\"virus.accession2taxid\") as fin, open(\n",
    "    \"virus.accession2taxid.ictv\", \"w\"\n",
    ") as fout:\n",
    "    next(fin)\n",
    "    for line in fin:\n",
    "        acc, taxid = line.split(\"\\t\")\n",
    "        ncbi_taxon = taxopy.Taxon(int(taxid), ncbi_taxdb)\n",
    "        for j in ncbi_taxon.name_lineage:\n",
    "            if j in ictv_name_set:\n",
    "                ictv_taxid = taxopy.taxid_from_name(j, ictv_taxdb)\n",
    "                ictv_taxon = taxopy.Taxon(ictv_taxid[0], ictv_taxdb)\n",
    "                fout.write(f\"{acc}\\t{ictv_taxon.taxid}\\n\")\n",
    "                break"
   ]
  },
  {
   "cell_type": "code",
   "execution_count": 25,
   "metadata": {},
   "outputs": [
    {
     "data": {
      "text/plain": [
       "'Preplasmiviricota'"
      ]
     },
     "execution_count": 25,
     "metadata": {},
     "output_type": "execute_result"
    }
   ],
   "source": [
    "j"
   ]
  },
  {
   "cell_type": "markdown",
   "metadata": {},
   "source": [
    "Download the proteins from NCBI and filter the FASTA file to keep only the proteins associated with ICTV viruses:"
   ]
  },
  {
   "cell_type": "code",
   "execution_count": null,
   "metadata": {},
   "outputs": [],
   "source": [
    "%%bash\n",
    "# Download and filter NR proteins\n",
    "aria2c --check-certificate=false -x 4 \"https://ftp.ncbi.nlm.nih.gov/blast/db/FASTA/nr.gz\"\n",
    "\n",
    "# Create a list containing the accessions of the proteins of ICTV viruses\n",
    "cut -f 1 virus.accession2taxid.ictv > virus.accession.txt\n",
    "\n",
    "# Filter the NR proteins to keep the proteins encoded by ICTV viruses\n",
    "seqkit grep -j 4 -f virus.accession.txt nr.gz | seqkit seq -i -w 0 -o nr.virus.faa.gz\n",
    "\n",
    "rm nr.gz"
   ]
  },
  {
   "cell_type": "markdown",
   "metadata": {},
   "source": [
    "There will be proteins in `virus.accession2taxid.ictv` that are not in NR. So we will keep only the proteins that are present in the filtered NR FASTA file:"
   ]
  },
  {
   "cell_type": "code",
   "execution_count": null,
   "metadata": {},
   "outputs": [],
   "source": [
    "%%bash\n",
    "# Filter the NR virus taxid table\n",
    "seqkit fx2tab -n -i nr.virus.faa.gz > nr.virus.list.txt\n",
    "csvtk grep -t -H -f 1 -P nr.virus.list.txt virus.accession2taxid.ictv > nr.virus.accession2taxid.ictv"
   ]
  },
  {
   "cell_type": "markdown",
   "metadata": {},
   "source": [
    "Using the filtered NR FASTA, the ICTV taxdump, and the `virus.accession2taxid.ictv` tabular file, we will create a MMSeqs2 protein database with taxonomy information:"
   ]
  },
  {
   "cell_type": "code",
   "execution_count": null,
   "metadata": {},
   "outputs": [],
   "source": [
    "%%bash\n",
    "# Create the MMSeqs2 database\n",
    "mkdir virus_tax_db\n",
    "mmseqs createdb --dbtype 1 nr.virus.faa.gz virus_tax_db/virus_tax_db\n",
    "mmseqs createtaxdb virus_tax_db/virus_tax_db tmp --ncbi-tax-dump ictv-taxdump --tax-mapping-file nr.virus.accession2taxid.ictv\n",
    "rm -rf tmp"
   ]
  },
  {
   "cell_type": "markdown",
   "metadata": {},
   "source": [
    "Finally, to assign taxonomy to viral sequences in an input file (`input.fna`):"
   ]
  },
  {
   "cell_type": "code",
   "execution_count": null,
   "metadata": {},
   "outputs": [],
   "source": [
    "%%bash\n",
    "mmseqs easy-taxonomy input.fna virus_tax_db/virus_tax_db taxonomy_results tmp -e 1e-5 -s 6 --blacklist \"\" --tax-lineage 1"
   ]
  }
 ],
 "metadata": {
  "kernelspec": {
   "display_name": "Python 3",
   "language": "python",
   "name": "python3"
  },
  "language_info": {
   "codemirror_mode": {
    "name": "ipython",
    "version": 3
   },
   "file_extension": ".py",
   "mimetype": "text/x-python",
   "name": "python",
   "nbconvert_exporter": "python",
   "pygments_lexer": "ipython3",
   "version": "3.9.19"
  }
 },
 "nbformat": 4,
 "nbformat_minor": 4
}
